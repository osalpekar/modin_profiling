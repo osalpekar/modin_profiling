{
 "cells": [
  {
   "cell_type": "code",
   "execution_count": 140,
   "metadata": {},
   "outputs": [],
   "source": [
    "import json\n",
    "import os\n",
    "from collections import OrderedDict\n",
    "from pprint import pprint\n",
    "import matplotlib.pyplot as plt"
   ]
  },
  {
   "cell_type": "code",
   "execution_count": 141,
   "metadata": {},
   "outputs": [
    {
     "data": {
      "text/plain": [
       "OrderedDict([('a368735324669914efcd9020ac3c8ffffab9b641', 1)])"
      ]
     },
     "execution_count": 141,
     "metadata": {},
     "output_type": "execute_result"
    }
   ],
   "source": [
    "json_dir = os.getcwd() + \"/modin/.benchmarks/Darwin-CPython-3.6-64bit/\"\n",
    "master_hash = \"ae9f397109620cf00243169654f2f4bec7809b72\"\n",
    "\n",
    "data = []\n",
    "commit_order = {}\n",
    "master_data = []\n",
    "for filename in os.listdir(json_dir):\n",
    "    if filename.endswith(\".json\"):\n",
    "        order = int(filename.split(\"_\")[0])\n",
    "        commit = filename.split(\"_\")[1].split(\"_\")[0]\n",
    "        if commit == master_hash:\n",
    "            with open(json_dir + filename) as f:\n",
    "                master_data.append(json.load(f))\n",
    "        else:\n",
    "            commit_order[commit] = order\n",
    "            with open(json_dir + filename) as f:\n",
    "                data.append(json.load(f))\n",
    "            \n",
    "commit_order = OrderedDict(sorted(commit_order.items(), key=lambda t: t))\n",
    "commit_order"
   ]
  },
  {
   "cell_type": "code",
   "execution_count": 142,
   "metadata": {},
   "outputs": [
    {
     "name": "stdout",
     "output_type": "stream",
     "text": [
      "{'ae9f397109620cf00243169654f2f4bec7809b72': {'add': 0.044498100550845264,\n",
      "                                              'add_df': 0.026291887605718028,\n",
      "                                              'apply': 0.08780498997075484,\n",
      "                                              'describe': 0.06847132141701877,\n",
      "                                              'fillna': 0.011862139589290811,\n",
      "                                              'isna': 0.04086302075302228,\n",
      "                                              'sum': 0.06263208320403162}}\n"
     ]
    }
   ],
   "source": [
    "def json_parser(data):\n",
    "    parsed_data = {}\n",
    "    for commit_data in data:\n",
    "        commit_hash = commit_data[\"commit_info\"][\"id\"]\n",
    "        test_data = {}\n",
    "        for test in commit_data[\"benchmarks\"]:\n",
    "            name = test[\"name\"][5:]\n",
    "            test_data[name] = test[\"stats\"][\"mean\"]\n",
    "        parsed_data[commit_hash] = test_data\n",
    "    return parsed_data\n",
    "        \n",
    "\n",
    "pprint(json_parser(master_data))\n",
    "        \n",
    "    "
   ]
  },
  {
   "cell_type": "code",
   "execution_count": 143,
   "metadata": {},
   "outputs": [],
   "source": [
    "def plot_function_perf(other_data, func_name):\n",
    "    commits = [a for a in commit_order]\n",
    "    perf = [other_data[commit_hash][func_name] for commit_hash in commits]\n",
    "    commits = [a[:7] for a in commits]\n",
    "    commits = commits[::-1]\n",
    "    perf = perf[::-1]\n",
    "    plt.plot(commits, perf)\n",
    "    plt.ylabel('seconds')\n",
    "    plt.xlabel('commit hash')\n",
    "    plt.title(func_name + ' performance')\n",
    "    plt.show()\n",
    "\n",
    "def plot_against_master(other_data, master_data, hash_to_compare, func_name):\n",
    "    #commits = [a for a in commit_order]\n",
    "    #perf = [other_data[commit_hash][func_name] for commit_hash in commits]\n",
    "    #commits = [a[:7] for a in commits]\n",
    "    #commits = commits[::-1]\n",
    "    #perf = perf[::-1]\n",
    "    commits = [hash_to_compare[:7], \"master\"]\n",
    "    compare_perf = other_data[hash_to_compare][func_name]\n",
    "    master_perf = master_data[master_hash][func_name]\n",
    "    perf = [compare_perf, master_perf]\n",
    "    #x = [\"master\"]\n",
    "    #x.append(commits[0])\n",
    "    #y = [master_data[master_hash][func_name]]\n",
    "    #y.append(perf[0])\n",
    "    print(commits)\n",
    "    print(perf)\n",
    "    plt.plot(commits, perf)\n",
    "    plt.ylabel('seconds')\n",
    "    plt.xlabel('commit hash')\n",
    "    plt.title(func_name + ' performance')\n",
    "    plt.show()"
   ]
  },
  {
   "cell_type": "code",
   "execution_count": 145,
   "metadata": {},
   "outputs": [
    {
     "name": "stdout",
     "output_type": "stream",
     "text": [
      "['a368735', 'master']\n",
      "[0.04610124307218939, 0.044498100550845264]\n"
     ]
    },
    {
     "data": {
      "image/png": "[encoded data removed]",
      "text/plain": [
       "<Figure size 432x288 with 1 Axes>"
      ]
     },
     "metadata": {},
     "output_type": "display_data"
    }
   ],
   "source": [
    "#RUN\n",
    "other = json_parser(data)\n",
    "#plot_function_perf(other, 'add')\n",
    "hash_to_compare = 'a368735324669914efcd9020ac3c8ffffab9b641'\n",
    "master = json_parser(master_data)\n",
    "plot_against_master(other, master, hash_to_compare, 'add')"
   ]
  },
  {
   "cell_type": "code",
   "execution_count": null,
   "metadata": {},
   "outputs": [],
   "source": []
  },
  {
   "cell_type": "code",
   "execution_count": null,
   "metadata": {},
   "outputs": [],
   "source": []
  },
  {
   "cell_type": "code",
   "execution_count": null,
   "metadata": {},
   "outputs": [],
   "source": []
  }
 ],
 "metadata": {
  "kernelspec": {
   "display_name": "Python 3",
   "language": "python",
   "name": "python3"
  },
  "language_info": {
   "codemirror_mode": {
    "name": "ipython",
    "version": 3
   },
   "file_extension": ".py",
   "mimetype": "text/x-python",
   "name": "python",
   "nbconvert_exporter": "python",
   "pygments_lexer": "ipython3",
   "version": "3.6.5"
  }
 },
 "nbformat": 4,
 "nbformat_minor": 2
}
